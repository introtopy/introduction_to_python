{
 "cells": [
  {
   "cell_type": "markdown",
   "metadata": {},
   "source": [
    "# A FRIENDLY INTRODUCTION TO PYTHON\n",
    "\n",
    "***\n",
    "![logo](images/1-about_python_logo.png)\n",
    "\n",
    "***\n",
    "## Contents\n",
    "#### GENERAL OVERVIEW\n",
    "- What is python?\n",
    "- Why choose python?\n",
    "- How to install:\n",
    "    - python interpreter\n",
    "    - packages\n",
    "- Code editing environments\n",
    "    - code editors\n",
    "    - IDEs\n",
    "    - Jupyter notebook\n",
    "- Codewars.com\n",
    "\n",
    "#### CODING EXAMPLES\n",
    "- Even or Odd\n",
    "- Square(n) Sum\n",
    "- Character Frequency\n",
    "- Reverse words\n",
    "- Who likes it?\n",
    "\n",
    "#### OVERVIEW OF SELECTED TOPICS\n",
    "- Python3 differences from Python2\n",
    "- Python101\n",
    "- Try, Except statements\n",
    "- List comprehensions  \n",
    "- String Formatting  \n",
    "\n",
    "#### FURTHER STUDY\n",
    "**Resources**\n",
    "- Documentation\n",
    "- Online courses  \n",
    "- Books\n",
    "- Quality newsletters\n",
    "- Other useful resources\n",
    "\n",
    "**Further Python topics**\n",
    "- Coding style\n",
    "- Regular expressions\n",
    "- Tests\n",
    "- Lambda\n",
    "- Virtual Environemnt \n",
    "\n",
    "_Join **#python-101** on Slack to find suggested coding exercise list to practice._  \n",
    "_Error reports & feedback welcome, find @tautvis or @eivydas on Slack._  "
   ]
  },
  {
   "cell_type": "code",
   "execution_count": null,
   "metadata": {},
   "outputs": [],
   "source": []
  }
 ],
 "metadata": {
  "kernelspec": {
   "display_name": "Python 3",
   "language": "python",
   "name": "python3"
  },
  "language_info": {
   "codemirror_mode": {
    "name": "ipython",
    "version": 3
   },
   "file_extension": ".py",
   "mimetype": "text/x-python",
   "name": "python",
   "nbconvert_exporter": "python",
   "pygments_lexer": "ipython3",
   "version": "3.6.6"
  }
 },
 "nbformat": 4,
 "nbformat_minor": 2
}
