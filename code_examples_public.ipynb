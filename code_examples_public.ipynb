{
 "cells": [
  {
   "cell_type": "markdown",
   "metadata": {},
   "source": [
    "# CODE EXAMPLES\n",
    "A FRIENDLY INTRODUCTION TO PYTHON\n",
    "\n",
    "***\n",
    "![logo](images/1-about_python_logo.png)\n",
    "\n",
    "***\n",
    "## Contents\n",
    "- Even or Odd\n",
    "- Square(n) Sum\n",
    "- Character Frequency \n",
    "- Reverse words\n",
    "- Who likes it?  \n",
    "\n",
    "***"
   ]
  },
  {
   "cell_type": "markdown",
   "metadata": {},
   "source": [
    "# Even or Odd (8)\n",
    "https://www.codewars.com/kata/even-or-odd/train/python  \n",
    "Create a function that takes an integer as an argument and returns \"Even\" for even numbers or \"Odd\" for odd numbers."
   ]
  },
  {
   "cell_type": "code",
   "execution_count": null,
   "metadata": {},
   "outputs": [],
   "source": [
    "def even_or_odd(number):\n",
    "    #your code here"
   ]
  },
  {
   "cell_type": "code",
   "execution_count": 2,
   "metadata": {},
   "outputs": [],
   "source": [
    "# solution\n",
    "def even_or_odd(number):\n",
    "    if number % 2 == 0:\n",
    "        return \"Even\"\n",
    "    else:\n",
    "        return \"Odd\""
   ]
  },
  {
   "cell_type": "code",
   "execution_count": 3,
   "metadata": {},
   "outputs": [
    {
     "name": "stdout",
     "output_type": "stream",
     "text": [
      "Odd\n",
      "Even\n",
      "Odd\n",
      "Even\n"
     ]
    }
   ],
   "source": [
    "#test\n",
    "print(even_or_odd(1))\n",
    "print(even_or_odd(2))\n",
    "print(even_or_odd(13))\n",
    "print(even_or_odd(4640))"
   ]
  },
  {
   "cell_type": "markdown",
   "metadata": {},
   "source": [
    "# Square(n) Sum (8)\n",
    "https://www.codewars.com/kata/square-n-sum/train/python  \n",
    "Complete the square sum method so that it squares each number passed into it and then sums the results together.\n",
    "\n",
    "For example: \n",
    "```squareSum([1, 2, 2])``` \n",
    "should return 9 because \n",
    "```1^2 + 2^2 + 2^2 = 9.```  \n"
   ]
  },
  {
   "cell_type": "code",
   "execution_count": null,
   "metadata": {},
   "outputs": [],
   "source": [
    "def square_sum(numbers):\n",
    "    #your code here"
   ]
  },
  {
   "cell_type": "code",
   "execution_count": null,
   "metadata": {},
   "outputs": [],
   "source": [
    "#initial solution\n",
    "def square_sum(numbers):\n",
    "    result = 0\n",
    "    for number in numbers:\n",
    "        result = result + number*number\n",
    "    return result"
   ]
  },
  {
   "cell_type": "code",
   "execution_count": 4,
   "metadata": {},
   "outputs": [],
   "source": [
    "# clever solution \n",
    "def square_sum(numbers):\n",
    "    return sum(x ** 2 for x in numbers)"
   ]
  },
  {
   "cell_type": "code",
   "execution_count": 5,
   "metadata": {},
   "outputs": [
    {
     "name": "stdout",
     "output_type": "stream",
     "text": [
      "9\n",
      "14\n",
      "21\n"
     ]
    }
   ],
   "source": [
    "#test\n",
    "print(square_sum([1, 2, 2]))\n",
    "print(square_sum([1, 2, 3]))\n",
    "print(square_sum([1, 2, 4]))"
   ]
  },
  {
   "cell_type": "markdown",
   "metadata": {},
   "source": [
    "# Character Frequency (8)\n",
    "https://www.codewars.com/kata/character-frequency-2/python  \n",
    "\n",
    "Description  \n",
    "Welcome, Warrior! In this kata, you will get a message and you will need to get the frequency of each and every character!\n",
    "\n",
    "Explanation  \n",
    "Your function will be called char_freq/charFreq/CharFreq and you will get passed a string, you will then return a dictionary (object in JavaScript) with as keys the characters, and as values how many times that character is in the string. You can assume you will be given valid input.\n",
    "\n",
    "Example  \n",
    "```char_freq(\"I like cats\") // Returns {'a': 1, ' ': 2, 'c': 1, 'e': 1, 'I': 1, 'k': 1, 'l': 1, 'i': 1, 's': 1, 't': 1}\n",
    "```"
   ]
  },
  {
   "cell_type": "code",
   "execution_count": null,
   "metadata": {},
   "outputs": [],
   "source": [
    "def char_freq(message):\n",
    "    #your code"
   ]
  },
  {
   "cell_type": "code",
   "execution_count": null,
   "metadata": {},
   "outputs": [],
   "source": [
    "#initial solution\n",
    "def char_freq(message):\n",
    "    result = {}\n",
    "    \n",
    "    #initialize dictionary keys with zero values\n",
    "    for  letter in set( letter for  letter in message):\n",
    "        result[ letter] = 0\n",
    "    \n",
    "    #increment value count\n",
    "    for  letter in message:\n",
    "        result[ letter] += 1\n",
    "    return result"
   ]
  },
  {
   "cell_type": "code",
   "execution_count": null,
   "metadata": {},
   "outputs": [],
   "source": [
    "#clever solution1\n",
    "from collections import Counter\n",
    "\n",
    "def char_freq(message):\n",
    "    return Counter(message)"
   ]
  },
  {
   "cell_type": "code",
   "execution_count": 6,
   "metadata": {},
   "outputs": [],
   "source": [
    "#clever solution2\n",
    "from collections import Counter as char_freq"
   ]
  },
  {
   "cell_type": "code",
   "execution_count": 7,
   "metadata": {},
   "outputs": [
    {
     "name": "stdout",
     "output_type": "stream",
     "text": [
      "Counter({' ': 2, 'I': 1, 'l': 1, 'i': 1, 'k': 1, 'e': 1, 'c': 1, 'a': 1, 't': 1, 's': 1})\n",
      "Counter({' ': 7, 'i': 6, 'e': 5, 't': 5, 'o': 4, 's': 4, 'r': 3, 'm': 3, 'c': 3, 'p': 2, 'u': 2, 'd': 2, 'l': 2, 'a': 2, 'n': 2, 'L': 1, ',': 1, 'g': 1})\n"
     ]
    }
   ],
   "source": [
    "#test\n",
    "print(char_freq(\"I like cats\"))\n",
    "print(char_freq(\"Lorem ipsum dolor sit amet, consectetur adipiscing elit\"))"
   ]
  },
  {
   "cell_type": "markdown",
   "metadata": {},
   "source": [
    "# Reverse words (7)\n",
    "https://www.codewars.com/kata/5259b20d6021e9e14c0010d4  \n",
    "Complete the function that accepts a string parameter, and reverses each word in the string. All spaces in the string should be retained.\n",
    "\n",
    "Examples  \n",
    "```\n",
    "\"This is an example!\" ==> \"sihT si na !elpmaxe\"\n",
    "\"double  spaces\"      ==> \"elbuod  secaps\"\n",
    "```"
   ]
  },
  {
   "cell_type": "code",
   "execution_count": null,
   "metadata": {},
   "outputs": [],
   "source": [
    "def reverse_words(text):\n",
    "    #your code here"
   ]
  },
  {
   "cell_type": "code",
   "execution_count": 8,
   "metadata": {},
   "outputs": [],
   "source": [
    "import re\n",
    "\n",
    "def reverse_words(text):\n",
    "    return ''.join(word[::-1] for word in re.split(r'(\\s+)', text))  "
   ]
  },
  {
   "cell_type": "code",
   "execution_count": 9,
   "metadata": {},
   "outputs": [
    {
     "name": "stdout",
     "output_type": "stream",
     "text": [
      "sihT si na !elpmaxe\n",
      "elbuod  secaps\n"
     ]
    }
   ],
   "source": [
    "print(reverse_words(\"This is an example!\"))\n",
    "print(reverse_words(\"double  spaces\"))"
   ]
  },
  {
   "cell_type": "markdown",
   "metadata": {},
   "source": [
    "# Who likes it? (6)\n",
    "https://www.codewars.com/kata/who-likes-it/train/python  \n",
    "You probably know the \"like\" system from Facebook and other pages. People can \"like\" blog posts, pictures or other items. We want to create the text that should be displayed next to such an item.\n",
    "\n",
    "Implement a function `likes :: [String] -> String`, which must take in input array, containing the names of people who like an item. It must return the display text as shown in the examples:  \n",
    "\n",
    "```\n",
    "likes [] // must be \"no one likes this\"\n",
    "likes [\"Peter\"] // must be \"Peter likes this\"\n",
    "likes [\"Jacob\", \"Alex\"] // must be \"Jacob and Alex like this\"\n",
    "likes [\"Max\", \"John\", \"Mark\"] // must be \"Max, John and Mark like this\"\n",
    "likes [\"Alex\", \"Jacob\", \"Mark\", \"Max\"] // must be \"Alex, Jacob and 2 others like this\"\n",
    "```"
   ]
  },
  {
   "cell_type": "code",
   "execution_count": null,
   "metadata": {},
   "outputs": [],
   "source": [
    "def likes():\n",
    "    #your code here"
   ]
  },
  {
   "cell_type": "code",
   "execution_count": 17,
   "metadata": {},
   "outputs": [],
   "source": [
    "# initial solution\n",
    "def likes(names):\n",
    "    n = len(names)\n",
    "    if n == 0:\n",
    "        return 'no one likes this'\n",
    "    elif n == 1:\n",
    "        return '{} likes this'.format(names[0])\n",
    "    elif n == 2:\n",
    "        return '{} and {} like this'.format(names[0], names[1])\n",
    "    elif n == 3:\n",
    "        return '{}, {} and {} like this'.format(names[0], names[1], names[2])\n",
    "    else:\n",
    "        return '{}, {} and {} others like this'.format(names[0], names[1], n - 2)"
   ]
  },
  {
   "cell_type": "code",
   "execution_count": 10,
   "metadata": {},
   "outputs": [],
   "source": [
    "#clever solution\n",
    "def likes(names):\n",
    "    n = len(names)\n",
    "    return {\n",
    "        0: 'no one likes this',\n",
    "        1: '{} likes this', \n",
    "        2: '{} and {} like this', \n",
    "        3: '{}, {} and {} like this', \n",
    "        4: '{}, {} and {others} others like this'\n",
    "    }[min(4, n)].format(*names[:3], others=n-2)"
   ]
  },
  {
   "cell_type": "code",
   "execution_count": 18,
   "metadata": {},
   "outputs": [
    {
     "name": "stdout",
     "output_type": "stream",
     "text": [
      "no one likes this\n",
      "Eric likes this\n",
      "Eric and Jimmy like this\n",
      "Eric, Jimmy and Randy like this\n",
      "Eric, Jimmy and 2 others like this\n",
      "Eric, Jimmy and 3 others like this\n"
     ]
    }
   ],
   "source": [
    "print(likes([]))\n",
    "print(likes(['Eric']))\n",
    "print(likes(['Eric', 'Jimmy']))\n",
    "print(likes(['Eric', 'Jimmy', 'Randy']))\n",
    "print(likes(['Eric', 'Jimmy', 'Randy', 'Timmy']))\n",
    "print(likes(['Eric', 'Jimmy', 'Randy', 'Timmy', 'Tweek']))"
   ]
  }
 ],
 "metadata": {
  "kernelspec": {
   "display_name": "Python 3",
   "language": "python",
   "name": "python3"
  },
  "language_info": {
   "codemirror_mode": {
    "name": "ipython",
    "version": 3
   },
   "file_extension": ".py",
   "mimetype": "text/x-python",
   "name": "python",
   "nbconvert_exporter": "python",
   "pygments_lexer": "ipython3",
   "version": "3.6.6"
  }
 },
 "nbformat": 4,
 "nbformat_minor": 2
}
