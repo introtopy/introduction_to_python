{
 "cells": [
  {
   "cell_type": "markdown",
   "metadata": {},
   "source": [
    "# TRY / EXCEPT\n",
    "A FRIENDLY INTRODUCTION TO PYTHON\n",
    "\n",
    "***\n",
    "![logo](images/1-about_python_logo.png)\n",
    "\n",
    "***\n",
    "Based on [w3schools](https://www.w3schools.com/python/python_try_except.asp) and [realpython.com](https://realpython.com/python-exceptions/) tutorials"
   ]
  },
  {
   "cell_type": "markdown",
   "metadata": {},
   "source": [
    "## Components\n",
    "There are three key components to the try/except statement:\n",
    "- The _try_ block lets you test a block of code for errors.\n",
    "- The _except_ block lets you handle the error.\n",
    "- The _finally_ block lets you execute code, regardless of the result of the try- and except blocks.  \n",
    "\n",
    "![logo](images/try_except.jpg)\n",
    "Source: realpython.com"
   ]
  },
  {
   "cell_type": "markdown",
   "metadata": {},
   "source": [
    "## Exception Handling\n",
    "When an error occurs (i.e. program crashes), Python will normally stop and generate an error message."
   ]
  },
  {
   "cell_type": "code",
   "execution_count": 1,
   "metadata": {},
   "outputs": [
    {
     "ename": "NameError",
     "evalue": "name 'x' is not defined",
     "output_type": "error",
     "traceback": [
      "\u001b[1;31m---------------------------------------------------------------------------\u001b[0m",
      "\u001b[1;31mNameError\u001b[0m                                 Traceback (most recent call last)",
      "\u001b[1;32m<ipython-input-1-fc17d851ef81>\u001b[0m in \u001b[0;36m<module>\u001b[1;34m()\u001b[0m\n\u001b[1;32m----> 1\u001b[1;33m \u001b[0mprint\u001b[0m\u001b[1;33m(\u001b[0m\u001b[0mx\u001b[0m\u001b[1;33m)\u001b[0m\u001b[1;33m\u001b[0m\u001b[0m\n\u001b[0m",
      "\u001b[1;31mNameError\u001b[0m: name 'x' is not defined"
     ]
    }
   ],
   "source": [
    "# program fails by raising an error because x is not defined\n",
    "print(x)"
   ]
  },
  {
   "cell_type": "markdown",
   "metadata": {},
   "source": [
    "These exceptions can be handled using the try statement:"
   ]
  },
  {
   "cell_type": "code",
   "execution_count": 2,
   "metadata": {},
   "outputs": [
    {
     "name": "stdout",
     "output_type": "stream",
     "text": [
      "An exception occurred\n"
     ]
    }
   ],
   "source": [
    "# with try/except we can anticipate failure, and assure program flow continues\n",
    "try:\n",
    "    print(x)\n",
    "except:\n",
    "    print(\"An exception occurred\")"
   ]
  },
  {
   "cell_type": "markdown",
   "metadata": {},
   "source": [
    "## Many Exceptions\n",
    "There are many *types* of errors in Python.\n",
    "- NameError\n",
    "- KeyError\n",
    "- IndexError  \n",
    "\n",
    "just to name a few. An experienced developer will anticipate a particular type of error and raise exception suited to that particular case, rather than using generic exception that will encompass any type of error.  \n",
    "\n",
    "Let's say we expect our program to be prone to throwing one particular type of error, i.e. _NameError_. We can provide one scenario for what our program should do when encountered this particular type of error, and another scenario for any other type of error."
   ]
  },
  {
   "cell_type": "code",
   "execution_count": 3,
   "metadata": {},
   "outputs": [
    {
     "name": "stdout",
     "output_type": "stream",
     "text": [
      "Variable x is not defined\n"
     ]
    }
   ],
   "source": [
    "try:\n",
    "    print(x)\n",
    "except NameError:\n",
    "    print(\"Variable x is not defined\")\n",
    "except:\n",
    "    print(\"Something else went wrong\")"
   ]
  },
  {
   "cell_type": "markdown",
   "metadata": {},
   "source": [
    "Same way we can list as many particular exceptions we wish, and provide individualised scenario for every case."
   ]
  },
  {
   "cell_type": "markdown",
   "metadata": {},
   "source": [
    "## Else\n",
    "You may want a certain scenario executed **only** if no errors were raised. In this case use _else_"
   ]
  },
  {
   "cell_type": "code",
   "execution_count": 7,
   "metadata": {},
   "outputs": [
    {
     "name": "stdout",
     "output_type": "stream",
     "text": [
      "Hello\n",
      "All good\n"
     ]
    }
   ],
   "source": [
    "try:\n",
    "    print(\"Hello\")\n",
    "except NameError:\n",
    "    print(\"Something wrong with defining a name\")\n",
    "except:\n",
    "    print(\"Something else wrong\")\n",
    "else:\n",
    "    print(\"All good\")"
   ]
  },
  {
   "cell_type": "markdown",
   "metadata": {},
   "source": [
    "## Finally\n",
    "Contrary to the above, sometimes you may want a certain scenario executed **regardless** of whether any errors were raised or not. In this case use _finally_"
   ]
  },
  {
   "cell_type": "code",
   "execution_count": 9,
   "metadata": {},
   "outputs": [
    {
     "name": "stdout",
     "output_type": "stream",
     "text": [
      "Something wrong with defining a name\n",
      "The try/except block is finished. Program may continue\n"
     ]
    }
   ],
   "source": [
    "try:\n",
    "    print(x)\n",
    "except NameError:\n",
    "    print(\"Something wrong with defining a name\")\n",
    "except:\n",
    "    print(\"Something else wrong\")\n",
    "finally:\n",
    "    print(\"The try/except block is finished. Program may continue\")"
   ]
  },
  {
   "cell_type": "markdown",
   "metadata": {},
   "source": [
    "## Raising an Exception\n",
    "We can use _raise_ to throw an exception if a condition occurs. The statement can be complemented with a custom exception."
   ]
  },
  {
   "cell_type": "code",
   "execution_count": 11,
   "metadata": {},
   "outputs": [
    {
     "ename": "Exception",
     "evalue": "x should not exceed 5. The value of x was: 10",
     "output_type": "error",
     "traceback": [
      "\u001b[1;31m---------------------------------------------------------------------------\u001b[0m",
      "\u001b[1;31mException\u001b[0m                                 Traceback (most recent call last)",
      "\u001b[1;32m<ipython-input-11-3dcc1a597936>\u001b[0m in \u001b[0;36m<module>\u001b[1;34m()\u001b[0m\n\u001b[0;32m      1\u001b[0m \u001b[0mx\u001b[0m \u001b[1;33m=\u001b[0m \u001b[1;36m10\u001b[0m\u001b[1;33m\u001b[0m\u001b[0m\n\u001b[0;32m      2\u001b[0m \u001b[1;32mif\u001b[0m \u001b[0mx\u001b[0m \u001b[1;33m>\u001b[0m \u001b[1;36m5\u001b[0m\u001b[1;33m:\u001b[0m\u001b[1;33m\u001b[0m\u001b[0m\n\u001b[1;32m----> 3\u001b[1;33m     \u001b[1;32mraise\u001b[0m \u001b[0mException\u001b[0m\u001b[1;33m(\u001b[0m\u001b[1;34m'x should not exceed 5. The value of x was: {}'\u001b[0m\u001b[1;33m.\u001b[0m\u001b[0mformat\u001b[0m\u001b[1;33m(\u001b[0m\u001b[0mx\u001b[0m\u001b[1;33m)\u001b[0m\u001b[1;33m)\u001b[0m\u001b[1;33m\u001b[0m\u001b[0m\n\u001b[0m",
      "\u001b[1;31mException\u001b[0m: x should not exceed 5. The value of x was: 10"
     ]
    }
   ],
   "source": [
    "x = 10\n",
    "if x > 5:\n",
    "    raise Exception('x should not exceed 5. The value of x was: {}'.format(x))"
   ]
  },
  {
   "cell_type": "markdown",
   "metadata": {},
   "source": [
    "Read more:  \n",
    "[w3schools](https://www.w3schools.com/python/python_try_except.asp)  \n",
    "[realpython.com](https://realpython.com/python-exceptions/)  \n",
    "[Official documentation](https://docs.python.org/3/tutorial/errors.html)"
   ]
  }
 ],
 "metadata": {
  "kernelspec": {
   "display_name": "Python 3",
   "language": "python",
   "name": "python3"
  },
  "language_info": {
   "codemirror_mode": {
    "name": "ipython",
    "version": 3
   },
   "file_extension": ".py",
   "mimetype": "text/x-python",
   "name": "python",
   "nbconvert_exporter": "python",
   "pygments_lexer": "ipython3",
   "version": "3.6.6"
  }
 },
 "nbformat": 4,
 "nbformat_minor": 2
}
