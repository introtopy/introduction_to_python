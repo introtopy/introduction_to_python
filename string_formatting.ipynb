{
 "cells": [
  {
   "cell_type": "markdown",
   "metadata": {},
   "source": [
    "# STRING FORMATTING\n",
    "A FRIENDLY INTRODUCTION TO PYTHON\n",
    "\n",
    "***\n",
    "![logo](images/1-about_python_logo.png)\n",
    "\n",
    "***"
   ]
  },
  {
   "cell_type": "markdown",
   "metadata": {},
   "source": [
    "## Basic Formatting"
   ]
  },
  {
   "cell_type": "code",
   "execution_count": 1,
   "metadata": {},
   "outputs": [
    {
     "data": {
      "text/plain": [
       "'We are Tesonet'"
      ]
     },
     "execution_count": 1,
     "metadata": {},
     "output_type": "execute_result"
    }
   ],
   "source": [
    "\"{} are {}\".format('We', 'Tesonet')"
   ]
  },
  {
   "cell_type": "markdown",
   "metadata": {},
   "source": [
    "Custom order"
   ]
  },
  {
   "cell_type": "code",
   "execution_count": 2,
   "metadata": {},
   "outputs": [
    {
     "data": {
      "text/plain": [
       "'Tesonet are We'"
      ]
     },
     "execution_count": 2,
     "metadata": {},
     "output_type": "execute_result"
    }
   ],
   "source": [
    "\"{1} are {0}\".format('We', 'Tesonet')"
   ]
  },
  {
   "cell_type": "markdown",
   "metadata": {},
   "source": [
    "Strings or integers"
   ]
  },
  {
   "cell_type": "code",
   "execution_count": 3,
   "metadata": {},
   "outputs": [
    {
     "data": {
      "text/plain": [
       "'Tesonet is home to 560+ professionals'"
      ]
     },
     "execution_count": 3,
     "metadata": {},
     "output_type": "execute_result"
    }
   ],
   "source": [
    "\"Tesonet is home to {}+ professionals\".format(560)"
   ]
  },
  {
   "cell_type": "markdown",
   "metadata": {},
   "source": [
    "## Multiline formatting"
   ]
  },
  {
   "cell_type": "code",
   "execution_count": null,
   "metadata": {},
   "outputs": [],
   "source": [
    "# all inputs at the end, within .format()\n",
    "sentence = (\n",
    "    \"The service runs on {} servers in {} \"\n",
    "    \"different countries, sending more \"\n",
    "    \"than {} GBps of traffic at peak time, \"\n",
    "    \"totalling in {} PBs of inter-continental \"\n",
    "    \"traffic per month.\"\n",
    ").format(12000, 70, 500, 5)\n",
    "\n",
    "print(sentence)"
   ]
  },
  {
   "cell_type": "markdown",
   "metadata": {},
   "source": [
    "**f-Strings** available as of Python 3.6  \n",
    "Using variable names"
   ]
  },
  {
   "cell_type": "code",
   "execution_count": 4,
   "metadata": {},
   "outputs": [
    {
     "name": "stdout",
     "output_type": "stream",
     "text": [
      "Tesonet is home to a number of projects that are taking the tech world by storm.\n"
     ]
    }
   ],
   "source": [
    "# inputs as variables\n",
    "company = 'Tesonet'\n",
    "industry = 'tech'\n",
    "\n",
    "sentence = (\n",
    "    f\"{company} is home to a number \"\n",
    "    f\"of projects that are taking \"\n",
    "    f\"the {industry} world by storm.\"\n",
    ")\n",
    "\n",
    "print(sentence)"
   ]
  },
  {
   "cell_type": "code",
   "execution_count": 5,
   "metadata": {},
   "outputs": [
    {
     "name": "stdout",
     "output_type": "stream",
     "text": [
      "Tesonet is home to a number of projects that are taking the tech world by storm.\n"
     ]
    }
   ],
   "source": [
    "# inputs as dictionary\n",
    "data = {\n",
    "    'company': 'Tesonet',\n",
    "    'industry': 'tech'\n",
    "}\n",
    "\n",
    "sentence = (\n",
    "    f\"{company} is home to a number \"\n",
    "    f\"of projects that are taking \"\n",
    "    f\"the {industry} world by storm.\"\n",
    ").format(data['company'], data['industry'])\n",
    "\n",
    "print(sentence)"
   ]
  },
  {
   "cell_type": "code",
   "execution_count": 7,
   "metadata": {},
   "outputs": [
    {
     "name": "stdout",
     "output_type": "stream",
     "text": [
      "Tesonet is home to a number of projects that are taking the tech world by storm.\n"
     ]
    }
   ],
   "source": [
    "# equivalent as above\n",
    "# ** - dictionary unpacking operator\n",
    "data = {\n",
    "    'company': 'Tesonet',\n",
    "    'industry': 'tech'\n",
    "}\n",
    "\n",
    "sentence = (\n",
    "    f\"{company} is home to a number \"\n",
    "    f\"of projects that are taking \"\n",
    "    f\"the {industry} world by storm.\"\n",
    ").format(**data)\n",
    "\n",
    "print(sentence)"
   ]
  },
  {
   "cell_type": "markdown",
   "metadata": {},
   "source": [
    "## Padding and aligning"
   ]
  },
  {
   "cell_type": "code",
   "execution_count": 9,
   "metadata": {},
   "outputs": [
    {
     "data": {
      "text/plain": [
       "'             Tesonet'"
      ]
     },
     "execution_count": 9,
     "metadata": {},
     "output_type": "execute_result"
    }
   ],
   "source": [
    "# align right\n",
    "\"{:>20}\".format('Tesonet')"
   ]
  },
  {
   "cell_type": "code",
   "execution_count": 10,
   "metadata": {},
   "outputs": [
    {
     "data": {
      "text/plain": [
       "'Tesonet             '"
      ]
     },
     "execution_count": 10,
     "metadata": {},
     "output_type": "execute_result"
    }
   ],
   "source": [
    "# align left (default)\n",
    "\"{:20}\".format('Tesonet')"
   ]
  },
  {
   "cell_type": "code",
   "execution_count": 11,
   "metadata": {},
   "outputs": [
    {
     "data": {
      "text/plain": [
       "'      Tesonet       '"
      ]
     },
     "execution_count": 11,
     "metadata": {},
     "output_type": "execute_result"
    }
   ],
   "source": [
    "# align center\n",
    "\"{:^20}\".format('Tesonet')"
   ]
  },
  {
   "cell_type": "code",
   "execution_count": 12,
   "metadata": {},
   "outputs": [
    {
     "name": "stdout",
     "output_type": "stream",
     "text": [
      "-------Tesonet-------\n",
      "///////Tesonet///////\n",
      "!!!!!!!Tesonet!!!!!!!\n"
     ]
    }
   ],
   "source": [
    "# padding character\n",
    "print(\"{:-^21}\".format('Tesonet'))\n",
    "print(\"{:/^21}\".format('Tesonet'))\n",
    "print(\"{:!^21}\".format('Tesonet'))"
   ]
  },
  {
   "cell_type": "markdown",
   "metadata": {},
   "source": [
    "## Truncating strings"
   ]
  },
  {
   "cell_type": "code",
   "execution_count": 13,
   "metadata": {},
   "outputs": [
    {
     "data": {
      "text/plain": [
       "'Teso'"
      ]
     },
     "execution_count": 13,
     "metadata": {},
     "output_type": "execute_result"
    }
   ],
   "source": [
    "\"{:.4}\".format('Tesonet')"
   ]
  },
  {
   "cell_type": "markdown",
   "metadata": {},
   "source": [
    "## Parametrized formats"
   ]
  },
  {
   "cell_type": "code",
   "execution_count": 14,
   "metadata": {},
   "outputs": [
    {
     "data": {
      "text/plain": [
       "'------Tesonet-------'"
      ]
     },
     "execution_count": 14,
     "metadata": {},
     "output_type": "execute_result"
    }
   ],
   "source": [
    "'{:{padding_char}{align}{width}}'.format('Tesonet', padding_char='-', align='^', width='20')"
   ]
  },
  {
   "cell_type": "markdown",
   "metadata": {},
   "source": [
    "More info: https://pyformat.info/"
   ]
  }
 ],
 "metadata": {
  "kernelspec": {
   "display_name": "Python 3",
   "language": "python",
   "name": "python3"
  },
  "language_info": {
   "codemirror_mode": {
    "name": "ipython",
    "version": 3
   },
   "file_extension": ".py",
   "mimetype": "text/x-python",
   "name": "python",
   "nbconvert_exporter": "python",
   "pygments_lexer": "ipython3",
   "version": "3.6.6"
  }
 },
 "nbformat": 4,
 "nbformat_minor": 2
}
